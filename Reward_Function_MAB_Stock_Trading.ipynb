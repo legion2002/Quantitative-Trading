{
  "nbformat": 4,
  "nbformat_minor": 0,
  "metadata": {
    "colab": {
      "name": "Reward Function MAB Stock Trading.ipynb",
      "provenance": [],
      "collapsed_sections": [],
      "authorship_tag": "ABX9TyO4BQu/PwIDOnS/a5sYko0d",
      "include_colab_link": true
    },
    "kernelspec": {
      "name": "python3",
      "display_name": "Python 3"
    },
    "language_info": {
      "name": "python"
    }
  },
  "cells": [
    {
      "cell_type": "markdown",
      "metadata": {
        "id": "view-in-github",
        "colab_type": "text"
      },
      "source": [
        "<a href=\"https://colab.research.google.com/github/legion2002/Quantitative-Trading/blob/master/Reward_Function_MAB_Stock_Trading.ipynb\" target=\"_parent\"><img src=\"https://colab.research.google.com/assets/colab-badge.svg\" alt=\"Open In Colab\"/></a>"
      ]
    },
    {
      "cell_type": "markdown",
      "source": [
        "Basic Notes - \n",
        "\n",
        "1.   Time Period of Prediction, should consider either multiple buy signals like short buy, long buy etc. Or should take into account the period set for downloading data.\n",
        "\n",
        "For 1,5,15 min short signals are considered with shorter time frames\n",
        "for rest longer signals are considered\n",
        "If it is a short buy signal, then reward more if short profit, reward less if long profit, penalize more if both short profit and short loss\n",
        "\n",
        "2.   Reward should also consider risk, so it should collect variation in the data till the final time period.\n",
        "\n",
        "3. Find more ratios like sharpe ratio etc. - treynor ratio and jensen's measure, but it won't work in this case, would work better on diversified portfolio\n",
        "\n",
        "4. Provide Gradient - Using Differential Sharpe Ratio\n",
        "\n",
        "5. Try to take in the strength of prediction, and calculate reward according to a factor of the strength\n",
        "\n",
        "6. Take in probingDistance as an argument and calculate according to this formula - \n",
        "distribute 100% between tickers upto probing distance ( depending upon type of signal given )\n",
        "calculate profit reward as the summation(netProfit * x/100)\n",
        "\n",
        "7. Take in acceptable risk factor as an argument and add result of differential sharpe ratio as a product of that risk factor\n",
        "\n",
        "3 new hyperparameters - \n",
        "\n",
        "Probing Distance\n",
        "\n",
        "Acceptable Risk Factor\n",
        "\n",
        "Distribution of Probing Distance\n",
        "\n",
        "All of these can increase the amount of fundamental knowledge the network has about the market.\n",
        "For example, in a bullish market you would want to increase the acceptable risk factor, and decrease the probing distance."
      ],
      "metadata": {
        "id": "og91-B-sSRRV"
      }
    },
    {
      "cell_type": "code",
      "source": [
        "import numpy as np\n",
        "import pandas as pd"
      ],
      "metadata": {
        "id": "gOmNXQ3xCkZ1"
      },
      "execution_count": 3,
      "outputs": []
    },
    {
      "cell_type": "code",
      "execution_count": 36,
      "metadata": {
        "id": "ZnEzdUgeSIxl",
        "colab": {
          "base_uri": "https://localhost:8080/"
        },
        "outputId": "400e5167-bc61-4688-ccd0-4b87c1542e14"
      },
      "outputs": [
        {
          "output_type": "execute_result",
          "data": {
            "text/plain": [
              "{'distr': 'uniform', 'period': '1m', 'probe': 5, 'risk': 0.5}"
            ]
          },
          "metadata": {},
          "execution_count": 36
        }
      ],
      "source": [
        "paras = {\n",
        "    'period' : '1m',\n",
        "    'probe' : 5,\n",
        "    'risk' : 0.5,\n",
        "    'distr' : 'uniform'    \n",
        "}\n",
        "paras"
      ]
    },
    {
      "cell_type": "code",
      "source": [
        "currentPrice = 50\n",
        "futureVals = np.array([55, 49, 58 , 25, 60])"
      ],
      "metadata": {
        "id": "0d0mKrtgBpYz"
      },
      "execution_count": 104,
      "outputs": []
    },
    {
      "cell_type": "code",
      "source": [
        "def getWeightDistro(futureVals, distroType):\n",
        "  if(distroType == 'uniform'):\n",
        "    return np.full((len(futureVals)), 1/len(futureVals))"
      ],
      "metadata": {
        "id": "27IKaCheDLNH"
      },
      "execution_count": 105,
      "outputs": []
    },
    {
      "cell_type": "code",
      "source": [
        "def getDiffSharpeRatio(futureVals, currentPrice):\n",
        "  # Need resources to return and compute this value\n",
        "  return 3"
      ],
      "metadata": {
        "id": "ijC7c7ebGpaK"
      },
      "execution_count": 106,
      "outputs": []
    },
    {
      "cell_type": "code",
      "source": [
        "def reward(signal, currentVal, futureVals, paras):\n",
        "  weightDist = getWeightDistro(futureVals, paras['distr'])\n",
        "  profitShare= np.dot(futureVals - currentVal, weightDist)\n",
        "  reward = profitShare + getDiffSharpeRatio(futureVals, currentVal)* paras['risk']\n",
        "  if(signal == 'B'):\n",
        "    return reward\n",
        "  elif(signal == 'S'):\n",
        "    return -reward\n",
        "  elif(signal == 'H'):\n",
        "    #Think of a better way to give hold signal\n",
        "    if(abs(reward) <= 2):\n",
        "    \n",
        "      return abs(reward) + 10\n",
        "    else:\n",
        "    \n",
        "      return -abs(reward)\n"
      ],
      "metadata": {
        "id": "zUlsLWDv6a8Y"
      },
      "execution_count": 109,
      "outputs": []
    },
    {
      "cell_type": "code",
      "source": [
        "reward('B', currentPrice, futureVals, paras)"
      ],
      "metadata": {
        "colab": {
          "base_uri": "https://localhost:8080/"
        },
        "id": "q_8WQIq0DkzW",
        "outputId": "db795957-9ddb-4398-e069-c11622ef96e9"
      },
      "execution_count": 110,
      "outputs": [
        {
          "output_type": "execute_result",
          "data": {
            "text/plain": [
              "0.9"
            ]
          },
          "metadata": {},
          "execution_count": 110
        }
      ]
    },
    {
      "cell_type": "code",
      "source": [
        "getDiffSharpeRatio(futureVals, currentPrice)"
      ],
      "metadata": {
        "colab": {
          "base_uri": "https://localhost:8080/"
        },
        "id": "L53Hw9ueDpi8",
        "outputId": "0fd69ac2-a2e6-4e14-eafb-83404c1a04b8"
      },
      "execution_count": 80,
      "outputs": [
        {
          "output_type": "execute_result",
          "data": {
            "text/plain": [
              "3"
            ]
          },
          "metadata": {},
          "execution_count": 80
        }
      ]
    },
    {
      "cell_type": "code",
      "source": [
        ""
      ],
      "metadata": {
        "id": "ZN8M0ineHC5W"
      },
      "execution_count": null,
      "outputs": []
    }
  ]
}